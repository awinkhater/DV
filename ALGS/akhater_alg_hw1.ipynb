{
 "cells": [
  {
   "cell_type": "markdown",
   "metadata": {
    "toc": true
   },
   "source": [
    "<h1>Table of Contents<span class=\"tocSkip\"></span></h1>\n",
    "<div class=\"toc\"><ul class=\"toc-item\"><li><span><a href=\"#Overview\" data-toc-modified-id=\"Overview-1\"><span class=\"toc-item-num\">1&nbsp;&nbsp;</span>Overview</a></span></li><li><span><a href=\"#Array-(100-marks)\" data-toc-modified-id=\"Array-(100-marks)-2\"><span class=\"toc-item-num\">2&nbsp;&nbsp;</span>Array (100 marks)</a></span><ul class=\"toc-item\"><li><span><a href=\"#Question-($\\star\\star$,-50-marks)\" data-toc-modified-id=\"Question-($\\star\\star$,-50-marks)-2.1\"><span class=\"toc-item-num\">2.1&nbsp;&nbsp;</span>Question ($\\star\\star$, 50 marks)</a></span></li><li><span><a href=\"#Question-($\\star\\star$,-50-marks)\" data-toc-modified-id=\"Question-($\\star\\star$,-50-marks)-2.2\"><span class=\"toc-item-num\">2.2&nbsp;&nbsp;</span>Question ($\\star\\star$, 50 marks)</a></span></li></ul></li></ul></div>"
   ]
  },
  {
   "cell_type": "markdown",
   "metadata": {
    "collapsed": true
   },
   "source": [
    "<b>\n",
    "\n",
    "<p>\n",
    "<center>\n",
    "<font size=\"5\">\n",
    "Homework for Algorithm Design for Data Science (DATS 6001)\n",
    "</font>\n",
    "</center>\n",
    "</p>\n",
    "\n",
    "<p>\n",
    "<center>\n",
    "<font size=\"4\">\n",
    "Homework 1: Array, Stack, and Queue\n",
    "</font>\n",
    "</center>\n",
    "</p>\n",
    "\n",
    "<p>\n",
    "<center>\n",
    "<font size=\"3\">\n",
    "Data Science, Columbian College of Arts & Sciences, George Washington University\n",
    "</font>\n",
    "</center>\n",
    "</p>\n",
    "\n",
    "<p>\n",
    "<center>\n",
    "<font size=\"3\">\n",
    "Author: Yuxiao Huang\n",
    "</font>\n",
    "</center>\n",
    "</p>\n",
    "\n",
    "</b>"
   ]
  },
  {
   "cell_type": "markdown",
   "metadata": {},
   "source": [
    "# Overview\n",
    "- For each question, complete the logic and code indicated by # Implement me\n",
    "    - the logic should summarize the main idea of your algorithm\n",
    "    - the code should\n",
    "        - be bug-free (while the output produced by your solution being the same as the provided output does not necessarily mean your code is bug-free, it is very likely that there is a bug in your code when the two kinds of output are different)\n",
    "        - satisfy the required time and space complexity\n",
    "        - be commented\n",
    "    - **marks will be deducted if the above requirements (for the logic and code) are not met**\n",
    "    - **see the complete grading rubrics in section 13 of the syllabus**\n",
    "- Submit an ipynb file named Homework_2.ipynb to [blackboard](https://blackboard.gwu.edu) folder /Assignments/Homework_1/"
   ]
  },
  {
   "cell_type": "markdown",
   "metadata": {},
   "source": [
    "# Array (100 marks)\n",
    "This section includes two questions."
   ]
  },
  {
   "cell_type": "markdown",
   "metadata": {},
   "source": [
    "## Question ($\\star\\star$, 50 marks)\n",
    "- Problem: \n",
    "    - follow up on example 3.3 in chapter 2 of lecture note\n",
    "    - find the first and second largest element in the array\n",
    "    - the solution has the complexity below\n",
    "- Complexity: \n",
    "    - $O(n)$ time\n",
    "    - $O(1)$ space\n",
    "- **Logic: # Implement me (5 marks)**\n"
   ]
  },
  {
   "cell_type": "code",
   "execution_count": 1,
   "metadata": {
    "collapsed": true
   },
   "outputs": [],
   "source": [
    "# Implementation\n",
    "def fun_21(arr):\n",
    "    \"\"\"\n",
    "    Find the first and second largest element in the array\n",
    "    You may assume the array has at least two unique elements\n",
    "    \n",
    "    Parameters\n",
    "    ----------\n",
    "    arr : a list of integers\n",
    "    \n",
    "    Returns\n",
    "    ----------\n",
    "    [the first largest element, the second largest element] : a list of two integers\n",
    "    \"\"\"\n",
    "    #Using la as a calculation for the length of the array so as to not force the length operation to be used more than once\n",
    "    la= len(arr)\n",
    "    #This if condition ensures the function can handle an empty array\n",
    "\n",
    "    first=arr[0]\n",
    "    second=arr[0]\n",
    "    for i in range (0, la):\n",
    "        if arr[i]>first:\n",
    "            #Assigning new first and the old first as the new second\n",
    "            second=first\n",
    "            first= arr[i]\n",
    "        if arr[i]<first and arr[i]>second:\n",
    "            #Setting a new second that doesnt affect the first\n",
    "            second= arr[i]\n",
    "    return(first, second)\n",
    "#Logit\n",
    "#This function simply initializes two variables for first and second and iterates through the array, and handles the variables accordingly.\n",
    "#This is similar to a function in class\n",
    "#This function should have complexity O(n) because it only loops through arr once\n",
    "#This function should take up constant, O(1) space because only two variables are assigned and no copies are made regardless of arr's size\n",
    "    "
   ]
  },
  {
   "cell_type": "code",
   "execution_count": 2,
   "metadata": {
    "scrolled": true
   },
   "outputs": [
    {
     "name": "stdout",
     "output_type": "stream",
     "text": [
      "(3, 2)\n",
      "(3, 3)\n",
      "(5, 3)\n",
      "(20, 11)\n"
     ]
    }
   ],
   "source": [
    "# Test\n",
    "arr_1 = [2, 3]\n",
    "arr_2 = [3, 2, 3]\n",
    "arr_3 = [2, 3, 5, -4]\n",
    "arr_4 = [2, 3, 5, -4, 9, 10, 20, 11]\n",
    "\n",
    "print(fun_21(arr_1))\n",
    "print(fun_21(arr_2))\n",
    "print(fun_21(arr_3))\n",
    "print(fun_21(arr_4))"
   ]
  },
  {
   "cell_type": "markdown",
   "metadata": {},
   "source": [
    "## Question ($\\star\\star$, 50 marks)\n",
    "- Problem: \n",
    "    - follow up on exercise 3.13 in chapter 2 of lecture note\n",
    "    - the only difference is, here\n",
    "        - you may not assume there is exactly one subarray (that has the largest sum)\n",
    "    - the solution has the complexity below\n",
    "- Complexity: \n",
    "    - $O(n^2)$ time\n",
    "    - $O(n^2)$ space\n",
    "- **Logic: # Implement me (5 marks)**\n"
   ]
  },
  {
   "cell_type": "code",
   "execution_count": 3,
   "metadata": {
    "collapsed": true
   },
   "outputs": [],
   "source": [
    "# Implementation\n",
    "def fun_22(arr):\n",
    "    \"\"\"\n",
    "    Find the largest sum across all the contiguous (non-empty) subarrays of the input array\n",
    "    You may assume the input array is not empty\n",
    "    You may not assume there is exactly one subarray (that has the largest sum)\n",
    "    \n",
    "    Parameters\n",
    "    ----------\n",
    "    arr : a list of integers\n",
    "    \n",
    "    Returns\n",
    "    ----------\n",
    "    [the largest sum, \n",
    "    the list of all the possible [index of the first element, index of the last element]]\n",
    "    : a list of two items, where the first item is an integer and the second item is a list of list\n",
    "    \"\"\"\n",
    "    #max_sum is a counter of the max sum    \n",
    "    max_sum=arr[0]\n",
    "    #Final List is a list that keeps the indexes of subarrays with max_sum\n",
    "    final_list=[]\n",
    "    #Creating a 2-D array ensuring space complexity of O(n^2)\n",
    "    sum_arr= [[0] * len(arr)] * len(arr) \n",
    "    #Setting the first value of the array to the first value of the array\n",
    "    sum_arr[0][0]= arr[0]\n",
    "    for i in range (0, len(arr)):\n",
    "        #The goal of this is to have a matrix where element i,j is the sum of subarray arr[i] to arr[j]\n",
    "        sum_arr[i][i]=arr[i]\n",
    "        #These if and elif conditions want to know if there is a tie/new max on ith element since the for loop below starts on the i+1 element\n",
    "        if (arr[i]==max_sum):\n",
    "            final_list.append([i,i])\n",
    "        elif (arr[i]>max_sum):\n",
    "            max_sum=arr[i]\n",
    "            final_list=[]\n",
    "            final_list.append([i,i])\n",
    "        for j in range(i+1, len(arr)):\n",
    "            sum_arr[i][j]=sum_arr[i][j-1]+arr[j]\n",
    "            #This is to deal with a new max\n",
    "            if max_sum < sum_arr[i][j]:\n",
    "                max_sum= sum_arr[i][j]\n",
    "                final_list=[]\n",
    "                final_list.append([i,j])\n",
    "            #This is to deal with a tying max\n",
    "            elif max_sum == sum_arr[i][j]:\n",
    "                final_list.append([i,j])\n",
    "    return([max_sum, final_list])\n",
    "\n",
    "#Logit:\n",
    "# Again the goal of this problem is to initialize a nxn matrix of 0's that will eventually be filled  such that the i,jth element of the matrix is the sum of the subarray from i to j\n",
    "# Each for loop merely is to check the sum     \n",
    "#This matrix is nxn which i think leads to space complexity of O(n^2)\n",
    "#There are two for loops so I believe it has a time complexity of O(n^2)\n",
    "    # Implement me (45 marks)\n",
    "    "
   ]
  },
  {
   "cell_type": "code",
   "execution_count": 4,
   "metadata": {
    "scrolled": false
   },
   "outputs": [
    {
     "name": "stdout",
     "output_type": "stream",
     "text": [
      "[2, [[0, 0]]]\n",
      "[3, [[1, 1]]]\n",
      "[5, [[1, 3]]]\n",
      "[5, [[1, 3], [7, 7]]]\n",
      "[5, [[1, 3], [1, 5], [5, 5]]]\n",
      "[0, [[0, 0], [0, 1], [1, 1]]]\n"
     ]
    }
   ],
   "source": [
    "# Test\n",
    "arr_1 = [2]\n",
    "arr_2 = [-2, 3]\n",
    "arr_3 = [-2, 3, -2, 4, -1, -2]\n",
    "arr_4 = [-2, 3, -2, 4, -1, -2, -10, 5]\n",
    "#User Added Test\n",
    "arr_5=[-2,3,-2,4,-5,5,-10]\n",
    "arr_6=[0,0]\n",
    "\n",
    "print(fun_22(arr_1))\n",
    "print(fun_22(arr_2))\n",
    "print(fun_22(arr_3))\n",
    "print(fun_22(arr_4))\n",
    "print(fun_22(arr_5))\n",
    "print(fun_22(arr_6))"
   ]
  }
 ],
 "metadata": {
  "kernelspec": {
   "display_name": "Python 3",
   "language": "python",
   "name": "python3"
  },
  "language_info": {
   "codemirror_mode": {
    "name": "ipython",
    "version": 3
   },
   "file_extension": ".py",
   "mimetype": "text/x-python",
   "name": "python",
   "nbconvert_exporter": "python",
   "pygments_lexer": "ipython3",
   "version": "3.9.5"
  },
  "toc": {
   "base_numbering": 1,
   "nav_menu": {},
   "number_sections": true,
   "sideBar": true,
   "skip_h1_title": false,
   "title_cell": "Table of Contents",
   "title_sidebar": "Contents",
   "toc_cell": true,
   "toc_position": {},
   "toc_section_display": true,
   "toc_window_display": false
  },
  "vscode": {
   "interpreter": {
    "hash": "c05d41e7d9d94e9369edf77f4a88378a794f63699d5f809c0f9d90ecdd9e3fe3"
   }
  }
 },
 "nbformat": 4,
 "nbformat_minor": 2
}
