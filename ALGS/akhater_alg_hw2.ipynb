{
 "cells": [
  {
   "cell_type": "markdown",
   "metadata": {
    "toc": true
   },
   "source": [
    "<h1>Table of Contents<span class=\"tocSkip\"></span></h1>\n",
    "<div class=\"toc\"><ul class=\"toc-item\"><li><span><a href=\"#Overview\" data-toc-modified-id=\"Overview-1\"><span class=\"toc-item-num\">1&nbsp;&nbsp;</span>Overview</a></span></li><li><span><a href=\"#Stack-(50-marks)\" data-toc-modified-id=\"Stack-(50-marks)-2\"><span class=\"toc-item-num\">2&nbsp;&nbsp;</span>Stack (50 marks)</a></span><ul class=\"toc-item\"><li><span><a href=\"#Question-($\\star\\star$,-50-marks)\" data-toc-modified-id=\"Question-($\\star\\star$,-50-marks)-2.1\"><span class=\"toc-item-num\">2.1&nbsp;&nbsp;</span>Question ($\\star\\star$, 50 marks)</a></span></li></ul></li><li><span><a href=\"#Binary-Search-(50-marks)\" data-toc-modified-id=\"Binary-Search-(50-marks)-3\"><span class=\"toc-item-num\">3&nbsp;&nbsp;</span>Binary Search (50 marks)</a></span><ul class=\"toc-item\"><li><span><a href=\"#Question-($\\star$,-10-marks)\" data-toc-modified-id=\"Question-($\\star$,-10-marks)-3.1\"><span class=\"toc-item-num\">3.1&nbsp;&nbsp;</span>Question ($\\star$, 10 marks)</a></span></li><li><span><a href=\"#Question-($\\star\\star$,-40-marks)\" data-toc-modified-id=\"Question-($\\star\\star$,-40-marks)-3.2\"><span class=\"toc-item-num\">3.2&nbsp;&nbsp;</span>Question ($\\star\\star$, 40 marks)</a></span></li></ul></li></ul></div>"
   ]
  },
  {
   "cell_type": "code",
   "execution_count": null,
   "metadata": {},
   "outputs": [],
   "source": [
    "for i in range (10,0,-1):\n",
    "    print(i)"
   ]
  },
  {
   "cell_type": "markdown",
   "metadata": {
    "collapsed": true
   },
   "source": [
    "<b>\n",
    "\n",
    "<p>\n",
    "<center>\n",
    "<font size=\"5\">\n",
    "Homework for Algorithm Design for Data Science (DATS 6001)\n",
    "</font>\n",
    "</center>\n",
    "</p>\n",
    "\n",
    "<p>\n",
    "<center>\n",
    "<font size=\"4\">\n",
    "Homework 2: Stack, Array and Binary Search\n",
    "</font>\n",
    "</center>\n",
    "</p>\n",
    "\n",
    "<p>\n",
    "<center>\n",
    "<font size=\"3\">\n",
    "Data Science, Columbian College of Arts & Sciences, George Washington University\n",
    "</font>\n",
    "</center>\n",
    "</p>\n",
    "\n",
    "<p>\n",
    "<center>\n",
    "<font size=\"3\">\n",
    "Author: Yuxiao Huang\n",
    "</font>\n",
    "</center>\n",
    "</p>\n",
    "\n",
    "</b>"
   ]
  },
  {
   "cell_type": "markdown",
   "metadata": {},
   "source": [
    "# Overview\n",
    "- For each question, complete the logic and code indicated by # Implement me\n",
    "    - the logic should summarize the main idea of your algorithm\n",
    "    - the code should\n",
    "        - be bug-free (while the output produced by your solution being the same as the provided output does not necessarily mean your code is bug-free, it is very likely that there is a bug in your code when the two kinds of output are different)\n",
    "        - satisfy the required time and space complexity\n",
    "        - be commented\n",
    "    - **marks will be deducted if the above requirements (for the logic and code) are not met**\n",
    "    - **see the complete grading rubrics in section 13 of the syllabus**\n",
    "- Submit an ipynb file named Homework_2.ipynb to [blackboard](https://blackboard.gwu.edu) folder /Assignments/Homework_2/"
   ]
  },
  {
   "cell_type": "markdown",
   "metadata": {},
   "source": [
    "# Stack (50 marks)"
   ]
  },
  {
   "cell_type": "markdown",
   "metadata": {
    "collapsed": true
   },
   "source": [
    "<a id='2.1'></a>"
   ]
  },
  {
   "cell_type": "markdown",
   "metadata": {},
   "source": [
    "## Question ($\\star\\star$, 50 marks)\n",
    "- Problem: \n",
    "    - find whether two lists of integers, list1 and list2, are equal\n",
    "    - here list2 only has nonnegative integers whereas list1 may also have negative integers\n",
    "    - particularly\n",
    "        - the negative number, say -n, in list1 means that this negative number and the n nonnegative numbers prior to it should be (hypothetically) removed from list1 during the comparison\n",
    "        - for example, if list1 = [2, 3, -1] and list2 = [2], the function should return True because based on the discussion above, in essence list1 = [2] (since 3 and -1 should be hypothetically removed from list1)\n",
    "        - another example, if list1 = [2, 3, 4, -1, 5, -2] and list2 = [2], the function still should return True, because in essence list1 = [2] (since 5 and 4 should be hypothetically removed due to -2, and 3 should be hypothetically removed due to -1)\n",
    "        - it is worth noting that, the function should return False if for negative number, say -n, there are fewer than n nonnegative numbers prior to it in list1\n",
    "        - for example, if list1 = [-1], the function should return False no matter what list2 is\n",
    "        - see the test cases for more examples\n",
    "    - find a solution with the complexity below\n",
    "- Complexity: \n",
    "    - $O(n)$ time\n",
    "    - $O(n)$ space\n",
    "- **Logic: # Implement me (5 marks)**\n"
   ]
  },
  {
   "cell_type": "code",
   "execution_count": 53,
   "metadata": {},
   "outputs": [],
   "source": [
    "# Implementation\n",
    "def fun_21(list1, list2):\n",
    "    \"\"\"\n",
    "    Find whether two lists of integers, list1 and list2, are equal\n",
    "    \n",
    "    Parameters\n",
    "    ----------\n",
    "    list1 : one list of integers\n",
    "    list2 : another list of integers\n",
    "    \n",
    "    Returns\n",
    "    ----------\n",
    "    True, if the two lists are equal\n",
    "    False, otherwise\n",
    "    \"\"\"\n",
    "    \n",
    "    # Implement me (15 marks)\n",
    "    #Logit:\n",
    "        #This function works by initilizing an empty filtered list and starting with a pop count, the list adds an item each iteration\n",
    "        #If the list item is less than 0, the pop count is set to the value of the item\n",
    "        # For each tick of pop count below 0, one item will be popped (delete is used, but it is the same thing. James okayed this)\n",
    "        #The absolute value is to ensure that the del method works\n",
    "        #as requested, the time complexity is O(n) because theres one for loop and the space complexity is O(n) because a copy of the list is made\n",
    "    filtered_list1=[] \n",
    "    pop_count=0\n",
    "    for i in range (len(list1)):\n",
    "        filtered_list1.append(list1[i])\n",
    "        if list1[i] < 0:\n",
    "            pop_count=list1[i]-1\n",
    "            if (abs(pop_count))  > len(filtered_list1): \n",
    "                return(False)\n",
    "            else:\n",
    "                del filtered_list1[(pop_count):]\n",
    "                pop_count=0\n",
    "    if filtered_list1 == list2:\n",
    "        return(True)\n",
    "    else:\n",
    "        return(False)\n",
    "            "
   ]
  },
  {
   "cell_type": "code",
   "execution_count": 54,
   "metadata": {
    "scrolled": true
   },
   "outputs": [
    {
     "name": "stdout",
     "output_type": "stream",
     "text": [
      "True\n",
      "True\n",
      "True\n",
      "False\n",
      "False\n",
      "True\n",
      "False\n"
     ]
    }
   ],
   "source": [
    "# Test\n",
    "print(fun_21([], []))\n",
    "print(fun_21([2, 3, -1], [2]))\n",
    "print(fun_21([2, 3, 4, -1, 5, -2], [2]))\n",
    "print(fun_21([-1], []))\n",
    "print(fun_21([1, 2, 3, 4, -2, 5, 6, -1], [2, 5]))\n",
    "print(fun_21([1, -1, 1], [1]))\n",
    "print(fun_21([2, 3, -100], [2]))"
   ]
  },
  {
   "cell_type": "markdown",
   "metadata": {},
   "source": [
    "# Binary Search (50 marks)\n",
    "This section includes two questions."
   ]
  },
  {
   "cell_type": "markdown",
   "metadata": {
    "collapsed": true
   },
   "source": [
    "<a id='4.1'></a>"
   ]
  },
  {
   "cell_type": "markdown",
   "metadata": {},
   "source": [
    "## Question ($\\star$, 10 marks)\n",
    "- Problem:\n",
    "    - follow up on exercise 3.6 in chapter 3 of lecture note\n",
    "    - as in exercise 3.6, if the target is not in the array, we return the index where we should insert the target to keep the array sorted\n",
    "    - however, unlike in exercise 3.6 where we return the index of any item in the array as long as the item equals the target, here we should return the index of the first item in the array that equals the target\n",
    "    - for example, if arr = [2, 3, 3, 4] and target = 3, we should return 1 (the index of the first 3 in arr) rather than 2 (the index of the second 3)\n",
    "    - see more examples in the testing cases\n",
    "    - find the solution with the complexity below\n",
    "- Complexity:\n",
    "    - $O(n)$ time\n",
    "    - $O(1)$ space\n",
    "- **Logic: # Implement me (5 marks)**\n"
   ]
  },
  {
   "cell_type": "code",
   "execution_count": 47,
   "metadata": {},
   "outputs": [],
   "source": [
    "# Implementation\n",
    "def fun_41(arr, target):\n",
    "    \"\"\"\n",
    "    Find a target in a sortetd array (in ascending order)\n",
    "    \n",
    "    Parameters\n",
    "    ----------\n",
    "    arr : a list of integers\n",
    "    target : an integer\n",
    "    \n",
    "    Returns\n",
    "    ----------\n",
    "    The index of the first item in arr that equals the target, if the target is in the array\n",
    "    The index where the target should be inserted (so that the array is still sorted in ascending order), otherwise\n",
    "    \"\"\"\n",
    "    \n",
    "    # Implement me (5 marks)\n",
    "    idx_A=None\n",
    "   #Logit\n",
    "        #This function works by finding the target element and then saving the index to idx_A \n",
    "        # if the target is not present idx_A will be set to wherever the target was passed\n",
    "        #The first 2 if conditions are corner cases\n",
    "        # This function works off the given condition that the array is sorted and waits for the target to be passed by on the list\n",
    "        #The time complexity of this function is O(n) because there is one for loop,\n",
    "        #The space complexity of this function is O(1) because a single variable is saved and no copies are made\n",
    "    if arr[0] > target:\n",
    "        idx_A= 0\n",
    "    elif arr[-1] < target:\n",
    "        idx_A= len(arr)\n",
    "    else:\n",
    "        for i in range (len(arr)):\n",
    "            if arr[i]== target:\n",
    "                idx_A= i\n",
    "                return(idx_A)\n",
    "            elif arr[i]>target:\n",
    "                idx_A= i-1\n",
    "                return(idx_A)\n",
    "            \n",
    "    return(idx_A)\n",
    "            \n",
    "        \n",
    "            \n",
    "        \n",
    "        "
   ]
  },
  {
   "cell_type": "code",
   "execution_count": 48,
   "metadata": {
    "scrolled": true
   },
   "outputs": [
    {
     "name": "stdout",
     "output_type": "stream",
     "text": [
      "1\n",
      "0\n",
      "1\n",
      "1\n",
      "2\n",
      "0\n"
     ]
    }
   ],
   "source": [
    "# Test\n",
    "arr_1 = [2]\n",
    "arr_2 = [4]\n",
    "arr_3 = [2, 3, 4]\n",
    "arr_4 = [2, 3, 3, 4]\n",
    "arr_5 = [2, 2, 3, 3, 3, 4, 4]\n",
    "arr_6 = [3, 3]\n",
    "\n",
    "\n",
    "print(fun_41(arr_1, 3))\n",
    "print(fun_41(arr_2, 3))\n",
    "print(fun_41(arr_3, 3))\n",
    "print(fun_41(arr_4, 3))\n",
    "print(fun_41(arr_5, 3))\n",
    "print(fun_41(arr_6, 3))"
   ]
  },
  {
   "cell_type": "markdown",
   "metadata": {},
   "source": [
    "## Question ($\\star\\star$, 40 marks)\n",
    "- Problem: \n",
    "    - follow up on [Question 4.1](#4.1)\n",
    "    - find a solution with the complexity below\n",
    "- Complexity: \n",
    "    - $O(log(n))$ time\n",
    "    - $O(1)$ space\n",
    "- **Logic: # Implement me (5 marks)**\n"
   ]
  },
  {
   "cell_type": "code",
   "execution_count": 37,
   "metadata": {},
   "outputs": [],
   "source": [
    "# Implementation\n",
    "def fun_42(arr, target):\n",
    "    \"\"\"\n",
    "    Find a target in a sortetd array (in ascending order)\n",
    "    \n",
    "    Parameters\n",
    "    ----------\n",
    "    arr : a list of integers\n",
    "    target : an integer\n",
    "    \n",
    "    Returns\n",
    "    ----------\n",
    "    The index of the first item in arr that equals the target, if the target is in the array\n",
    "    The index where the target should be inserted (so that the array is still sorted in ascending order), otherwise\n",
    "    \"\"\"\n",
    "    \n",
    "    # Implement me (35 marks)\n",
    "\n",
    "    #Logit:\n",
    "        #See code for more elaboration\n",
    "        #The basic idea of this code is to continually check the middle of the array in bst style\n",
    "        #The time complexity is O(log(n)) as this is a bst algorithm, and the space complexity is O(1) because we are only saving 3 integers\n",
    "# The starting and ending point of the input array\n",
    "    left, right = 0, len(arr) - 1\n",
    "    # While the subarray is not empty\n",
    "    while (left <= right):\n",
    "        # Get the index of the middle item in the subarray\n",
    "        mid = left + (right - left) // 2\n",
    "        \n",
    "        #if we passed the target, first if is a corner case\n",
    "        if arr[left] > target:\n",
    "            if left==0:\n",
    "                return(0)\n",
    "            else:\n",
    "                return(left-1)\n",
    "        #If the array is too small for the target:\n",
    "        if arr[right] < target:\n",
    "            return (right+1)\n",
    "        # If the middle item equals the target\n",
    "        if arr[mid] == target and ((arr[mid-1] != arr[mid]) or mid==0):\n",
    "            return mid\n",
    "        # If the middle item is smaller than the target\n",
    "        elif arr[mid] < target:\n",
    "            left = mid\n",
    "        # If the middle item is Larger than the target\n",
    "        else:\n",
    "            right = mid\n",
    "             \n",
    "\n",
    "            \n",
    "    return None"
   ]
  },
  {
   "cell_type": "code",
   "execution_count": null,
   "metadata": {},
   "outputs": [],
   "source": []
  },
  {
   "cell_type": "code",
   "execution_count": 38,
   "metadata": {
    "scrolled": false
   },
   "outputs": [
    {
     "name": "stdout",
     "output_type": "stream",
     "text": [
      "1\n",
      "0\n",
      "1\n",
      "1\n",
      "2\n",
      "0\n"
     ]
    }
   ],
   "source": [
    "# Test\n",
    "arr_1 = [2]\n",
    "arr_2 = [4]\n",
    "arr_3 = [2, 3, 4]\n",
    "arr_4 = [2, 3, 3, 4]\n",
    "arr_5 = [2, 2, 3, 3, 3, 4, 4]\n",
    "arr_6 = [3, 3]\n",
    "\n",
    "\n",
    "print(fun_42(arr_1, 3))\n",
    "print(fun_42(arr_2, 3))\n",
    "print(fun_42(arr_3, 3))\n",
    "print(fun_42(arr_4, 3))\n",
    "print(fun_42(arr_5, 3))\n",
    "print(fun_42(arr_6, 3))"
   ]
  }
 ],
 "metadata": {
  "kernelspec": {
   "display_name": "base",
   "language": "python",
   "name": "python3"
  },
  "language_info": {
   "codemirror_mode": {
    "name": "ipython",
    "version": 3
   },
   "file_extension": ".py",
   "mimetype": "text/x-python",
   "name": "python",
   "nbconvert_exporter": "python",
   "pygments_lexer": "ipython3",
   "version": "3.8.8"
  },
  "toc": {
   "base_numbering": 1,
   "nav_menu": {},
   "number_sections": true,
   "sideBar": true,
   "skip_h1_title": false,
   "title_cell": "Table of Contents",
   "title_sidebar": "Contents",
   "toc_cell": true,
   "toc_position": {},
   "toc_section_display": true,
   "toc_window_display": false
  },
  "vscode": {
   "interpreter": {
    "hash": "623420a0ac306b5c9acf98402868eb5ad5340febfd70ef6de8d22f0e3d4444c3"
   }
  }
 },
 "nbformat": 4,
 "nbformat_minor": 2
}
